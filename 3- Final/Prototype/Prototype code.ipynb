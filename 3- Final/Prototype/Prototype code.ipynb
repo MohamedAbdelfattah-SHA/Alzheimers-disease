{
 "cells": [
  {
   "cell_type": "code",
   "execution_count": 6,
   "metadata": {},
   "outputs": [],
   "source": [
    "import tkinter as tk\n",
    "from tkinter import filedialog, Label, Button\n",
    "from PIL import Image, ImageTk\n",
    "import tensorflow as tf\n",
    "import numpy as np\n",
    "from tensorflow.keras import backend as K\n",
    "import cv2"
   ]
  },
  {
   "cell_type": "code",
   "execution_count": 7,
   "metadata": {},
   "outputs": [],
   "source": [
    "@tf.keras.utils.register_keras_serializable()\n",
    "def focal_loss(gamma=2., alpha=0.25):\n",
    "    def focal_loss_fixed(y_true, y_pred):\n",
    "        y_pred = tf.clip_by_value(y_pred, K.epsilon(), 1. - K.epsilon())\n",
    "        cross_entropy = -y_true * K.log(y_pred)\n",
    "        focal_factor = K.pow(1 - y_pred, gamma)\n",
    "        loss = alpha * focal_factor * cross_entropy\n",
    "        return K.sum(loss, axis=1)\n",
    "    return focal_loss_fixed"
   ]
  },
  {
   "cell_type": "code",
   "execution_count": 8,
   "metadata": {},
   "outputs": [],
   "source": [
    "class_labels = {\n",
    "    0: \"AD\",  # Alzheimer's Disease\n",
    "    1: \"MCI\", # Mild Cognitive Impairment\n",
    "    2: \"NC\"   # Normal Cognition\n",
    "}"
   ]
  },
  {
   "cell_type": "code",
   "execution_count": 9,
   "metadata": {},
   "outputs": [],
   "source": [
    "#Filters\n",
    "def median_Gaussian_filters(images):\n",
    "    denoised_images = []\n",
    "    for img in images:\n",
    "        img = cv2.medianBlur(img.astype(np.uint8), 3)\n",
    "        img = cv2.GaussianBlur(img, (5, 5), 10)\n",
    "        denoised_images.append(img)\n",
    "    return np.array(denoised_images)\n",
    "\n",
    "def unsharp_mask(image, sigma=1.0, strength=1):\n",
    "    if not isinstance(image, np.ndarray):\n",
    "        image = np.array(image)\n",
    "    kernel_size = int(6 * sigma + 1)\n",
    "    if kernel_size % 2 == 0:\n",
    "        kernel_size += 1\n",
    "    blurred = cv2.GaussianBlur(image, (kernel_size, kernel_size), sigma)\n",
    "    sharpened = cv2.addWeighted(image, 1.0 + strength, blurred, -strength, 0)\n",
    "    return sharpened"
   ]
  },
  {
   "cell_type": "code",
   "execution_count": 10,
   "metadata": {},
   "outputs": [
    {
     "name": "stdout",
     "output_type": "stream",
     "text": [
      "\u001b[1m1/1\u001b[0m \u001b[32m━━━━━━━━━━━━━━━━━━━━\u001b[0m\u001b[37m\u001b[0m \u001b[1m0s\u001b[0m 393ms/step\n",
      "\u001b[1m1/1\u001b[0m \u001b[32m━━━━━━━━━━━━━━━━━━━━\u001b[0m\u001b[37m\u001b[0m \u001b[1m0s\u001b[0m 71ms/step\n"
     ]
    }
   ],
   "source": [
    "MODEL_PATH = \"C://Users//محمد عبدالفتاح//Desktop//Alzheimers-disease//3- Final//CNN code & Model//cnnModel.keras\"\n",
    "model = tf.keras.models.load_model(MODEL_PATH, custom_objects={'focal_loss': focal_loss, 'focal_loss_fixed': focal_loss()})\n",
    "\n",
    "root = tk.Tk()\n",
    "root.title(\"Image Classifier\")\n",
    "root.geometry(\"500x700\")\n",
    "root.configure(bg=\"#f0f0f5\")\n",
    "\n",
    "title_label = Label(root, text=\"Alzheimer's Image Classifier\", font=(\"Helvetica\", 20, \"bold\"), bg=\"#f0f0f5\", fg=\"#2b2b52\")\n",
    "title_label.pack(pady=20)\n",
    "\n",
    "label = Label(root, text=\"Upload an image to classify\", font=(\"Helvetica\", 14), bg=\"#f0f0f5\", fg=\"#4d4d4d\")\n",
    "label.pack(pady=10)\n",
    "\n",
    "image_path = None\n",
    "\n",
    "def classify_image():\n",
    "    global image_path\n",
    "    if image_path:\n",
    "        img = Image.open(image_path).resize((256, 256))\n",
    "        img = img.convert('L')\n",
    "        img_array = np.array(img)\n",
    "        #Filters\n",
    "        img_array = median_Gaussian_filters(img_array)\n",
    "        img_array = unsharp_mask(img_array)\n",
    "        img_array = img_array/ 255.0\n",
    "        img_array = np.expand_dims(img_array, axis=0)\n",
    "        predictions = model.predict(img_array)\n",
    "        class_idx = np.argmax(predictions[0])\n",
    "        confidence = predictions[0][class_idx]\n",
    "        class_name = class_labels.get(class_idx, \"Unknown Class\")\n",
    "        result_label.config(text=f\"Class: {class_name}\\nConfidence: {confidence:.2f}\", fg=\"#2b9348\")\n",
    "    else:\n",
    "        result_label.config(text=\"Please upload an image first!\", fg=\"#c1121f\")\n",
    "\n",
    "def upload_image():\n",
    "    global image_path\n",
    "    image_path = filedialog.askopenfilename(\n",
    "        filetypes=[(\"Image Files\", \"*.png;*.jpg;*.jpeg;*.bmp\")]\n",
    "    )\n",
    "    if image_path:\n",
    "        img = Image.open(image_path)\n",
    "        img.thumbnail((300, 300))\n",
    "        img_tk = ImageTk.PhotoImage(img)\n",
    "        image_label.config(image=img_tk)\n",
    "        image_label.image = img_tk\n",
    "        result_label.config(text=\"\", fg=\"#4d4d4d\")\n",
    "\n",
    "upload_button = Button(\n",
    "    root, text=\"Upload Image\", command=upload_image,\n",
    "    font=(\"Helvetica\", 12, \"bold\"), bg=\"#5f6caf\", fg=\"white\", activebackground=\"#7a86b6\", activeforeground=\"white\"\n",
    ")\n",
    "upload_button.pack(pady=20)\n",
    "\n",
    "image_label = Label(root, bg=\"#f0f0f5\")\n",
    "image_label.pack(pady=10)\n",
    "\n",
    "classify_button = Button(\n",
    "    root, text=\"Classify Image\", command=classify_image,\n",
    "    font=(\"Helvetica\", 12, \"bold\"), bg=\"#5f6caf\", fg=\"white\", activebackground=\"#7a86b6\", activeforeground=\"white\"\n",
    ")\n",
    "classify_button.pack(pady=20)\n",
    "\n",
    "result_label = Label(root, text=\"\", font=(\"Helvetica\", 14), bg=\"#f0f0f5\", fg=\"#4d4d4d\")\n",
    "result_label.pack(pady=20)\n",
    "\n",
    "root.mainloop()"
   ]
  }
 ],
 "metadata": {
  "kernelspec": {
   "display_name": "Python 3",
   "language": "python",
   "name": "python3"
  },
  "language_info": {
   "codemirror_mode": {
    "name": "ipython",
    "version": 3
   },
   "file_extension": ".py",
   "mimetype": "text/x-python",
   "name": "python",
   "nbconvert_exporter": "python",
   "pygments_lexer": "ipython3",
   "version": "3.11.9"
  }
 },
 "nbformat": 4,
 "nbformat_minor": 2
}
